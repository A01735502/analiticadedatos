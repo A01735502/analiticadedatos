{
 "cells": [
  {
   "cell_type": "markdown",
   "id": "63edd7bd",
   "metadata": {},
   "source": [
    "este es un archivo de prueba "
   ]
  }
 ],
 "metadata": {
  "language_info": {
   "name": "python"
  }
 },
 "nbformat": 4,
 "nbformat_minor": 5
}
